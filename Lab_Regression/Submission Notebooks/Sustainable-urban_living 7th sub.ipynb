{
 "cells": [
  {
   "cell_type": "code",
   "execution_count": 151,
   "metadata": {},
   "outputs": [],
   "source": [
    "import pandas as pd\n",
    "import numpy as np\n",
    "import seaborn as sns"
   ]
  },
  {
   "cell_type": "code",
   "execution_count": 152,
   "metadata": {},
   "outputs": [],
   "source": [
    "train = pd.read_csv(\"train.csv\")\n",
    "test = pd.read_csv(\"test.csv\")"
   ]
  },
  {
   "cell_type": "code",
   "execution_count": 153,
   "metadata": {},
   "outputs": [
    {
     "data": {
      "text/plain": [
       "Id                         object\n",
       "Property_Type              object\n",
       "Property_Area               int64\n",
       "Number_of_Windows         float64\n",
       "Number_of_Doors             int64\n",
       "Furnishing                 object\n",
       "Frequency_of_Powercuts    float64\n",
       "Power_Backup               object\n",
       "Water_Supply               object\n",
       "Traffic_Density_Score     float64\n",
       "Crime_Rate                 object\n",
       "Dust_and_Noise             object\n",
       "Air_Quality_Index         float64\n",
       "Neighborhood_Review       float64\n",
       "Habitability_score        float64\n",
       "dtype: object"
      ]
     },
     "execution_count": 153,
     "metadata": {},
     "output_type": "execute_result"
    }
   ],
   "source": [
    "train.dtypes"
   ]
  },
  {
   "cell_type": "code",
   "execution_count": 154,
   "metadata": {},
   "outputs": [
    {
     "data": {
      "text/plain": [
       "array(['Apartment', 'Bungalow', 'Single-family home', 'Duplex',\n",
       "       '#R%$G&867', 'Container Home'], dtype=object)"
      ]
     },
     "execution_count": 154,
     "metadata": {},
     "output_type": "execute_result"
    }
   ],
   "source": [
    "train[\"Property_Type\"].unique()"
   ]
  },
  {
   "cell_type": "code",
   "execution_count": 155,
   "metadata": {},
   "outputs": [
    {
     "name": "stdout",
     "output_type": "stream",
     "text": [
      "No null values found in the DataFrame.\n"
     ]
    }
   ],
   "source": [
    "null_values_exist = train[\"Neighborhood_Review\"].isnull().values.any()\n",
    "\n",
    "# Print the result\n",
    "if null_values_exist:\n",
    "    print(\"Null values exist in the DataFrame.\")\n",
    "else:\n",
    "    print(\"No null values found in the DataFrame.\")"
   ]
  },
  {
   "cell_type": "code",
   "execution_count": 156,
   "metadata": {},
   "outputs": [
    {
     "data": {
      "text/plain": [
       "Property_Type\n",
       "Apartment             11673\n",
       "Single-family home     9146\n",
       "Duplex                 4671\n",
       "Bungalow               3392\n",
       "Container Home         2310\n",
       "#R%$G&867               407\n",
       "Name: count, dtype: int64"
      ]
     },
     "execution_count": 156,
     "metadata": {},
     "output_type": "execute_result"
    }
   ],
   "source": [
    "train[\"Property_Type\"].value_counts()"
   ]
  },
  {
   "cell_type": "code",
   "execution_count": 157,
   "metadata": {},
   "outputs": [],
   "source": [
    "from sklearn.preprocessing import OneHotEncoder\n",
    "\n",
    "ohe1 = OneHotEncoder()\n",
    "feature_array_1 = ohe1.fit_transform(train[[\"Property_Type\"]]).toarray()\n",
    "feature_labels_1 = ohe1.categories_\n",
    "feature_labels_1 = np.array(feature_labels_1).ravel()\n",
    "features_1 = pd.DataFrame(feature_array_1 , columns=feature_labels_1)\n",
    "train = pd.concat([train , features_1] , axis = 1)\n",
    "\n",
    "ohe2 = OneHotEncoder()\n",
    "feature_array_2 = ohe2.fit_transform(test[[\"Property_Type\"]]).toarray()\n",
    "feature_labels_2 = ohe2.categories_\n",
    "feature_labels_2 = np.array(feature_labels_1).ravel()\n",
    "features_2 = pd.DataFrame(feature_array_2 , columns=feature_labels_2)\n",
    "test = pd.concat([test , features_2] , axis = 1)"
   ]
  },
  {
   "cell_type": "code",
   "execution_count": 158,
   "metadata": {},
   "outputs": [
    {
     "data": {
      "text/html": [
       "<div>\n",
       "<style scoped>\n",
       "    .dataframe tbody tr th:only-of-type {\n",
       "        vertical-align: middle;\n",
       "    }\n",
       "\n",
       "    .dataframe tbody tr th {\n",
       "        vertical-align: top;\n",
       "    }\n",
       "\n",
       "    .dataframe thead th {\n",
       "        text-align: right;\n",
       "    }\n",
       "</style>\n",
       "<table border=\"1\" class=\"dataframe\">\n",
       "  <thead>\n",
       "    <tr style=\"text-align: right;\">\n",
       "      <th></th>\n",
       "      <th>Id</th>\n",
       "      <th>Property_Type</th>\n",
       "      <th>Property_Area</th>\n",
       "      <th>Number_of_Windows</th>\n",
       "      <th>Number_of_Doors</th>\n",
       "      <th>Furnishing</th>\n",
       "      <th>Frequency_of_Powercuts</th>\n",
       "      <th>Power_Backup</th>\n",
       "      <th>Water_Supply</th>\n",
       "      <th>Traffic_Density_Score</th>\n",
       "      <th>...</th>\n",
       "      <th>Dust_and_Noise</th>\n",
       "      <th>Air_Quality_Index</th>\n",
       "      <th>Neighborhood_Review</th>\n",
       "      <th>Habitability_score</th>\n",
       "      <th>#R%$G&amp;867</th>\n",
       "      <th>Apartment</th>\n",
       "      <th>Bungalow</th>\n",
       "      <th>Container Home</th>\n",
       "      <th>Duplex</th>\n",
       "      <th>Single-family home</th>\n",
       "    </tr>\n",
       "  </thead>\n",
       "  <tbody>\n",
       "    <tr>\n",
       "      <th>0</th>\n",
       "      <td>0x21e3</td>\n",
       "      <td>Apartment</td>\n",
       "      <td>106</td>\n",
       "      <td>NaN</td>\n",
       "      <td>1</td>\n",
       "      <td>Semi_Furnished</td>\n",
       "      <td>0.0</td>\n",
       "      <td>No</td>\n",
       "      <td>Once in a day - Morning</td>\n",
       "      <td>5.89</td>\n",
       "      <td>...</td>\n",
       "      <td>Medium</td>\n",
       "      <td>90.0</td>\n",
       "      <td>3.86</td>\n",
       "      <td>71.98</td>\n",
       "      <td>0.0</td>\n",
       "      <td>1.0</td>\n",
       "      <td>0.0</td>\n",
       "      <td>0.0</td>\n",
       "      <td>0.0</td>\n",
       "      <td>0.0</td>\n",
       "    </tr>\n",
       "    <tr>\n",
       "      <th>1</th>\n",
       "      <td>0x68d4</td>\n",
       "      <td>Apartment</td>\n",
       "      <td>733</td>\n",
       "      <td>2.0</td>\n",
       "      <td>2</td>\n",
       "      <td>Unfurnished</td>\n",
       "      <td>1.0</td>\n",
       "      <td>No</td>\n",
       "      <td>Once in a day - Evening</td>\n",
       "      <td>4.37</td>\n",
       "      <td>...</td>\n",
       "      <td>Medium</td>\n",
       "      <td>96.0</td>\n",
       "      <td>3.55</td>\n",
       "      <td>71.20</td>\n",
       "      <td>0.0</td>\n",
       "      <td>1.0</td>\n",
       "      <td>0.0</td>\n",
       "      <td>0.0</td>\n",
       "      <td>0.0</td>\n",
       "      <td>0.0</td>\n",
       "    </tr>\n",
       "    <tr>\n",
       "      <th>2</th>\n",
       "      <td>0x7d81</td>\n",
       "      <td>Apartment</td>\n",
       "      <td>737</td>\n",
       "      <td>4.0</td>\n",
       "      <td>2</td>\n",
       "      <td>Fully Furnished</td>\n",
       "      <td>0.0</td>\n",
       "      <td>No</td>\n",
       "      <td>Once in a day - Morning</td>\n",
       "      <td>7.45</td>\n",
       "      <td>...</td>\n",
       "      <td>Medium</td>\n",
       "      <td>121.0</td>\n",
       "      <td>3.81</td>\n",
       "      <td>71.39</td>\n",
       "      <td>0.0</td>\n",
       "      <td>1.0</td>\n",
       "      <td>0.0</td>\n",
       "      <td>0.0</td>\n",
       "      <td>0.0</td>\n",
       "      <td>0.0</td>\n",
       "    </tr>\n",
       "    <tr>\n",
       "      <th>3</th>\n",
       "      <td>0x7a57</td>\n",
       "      <td>Apartment</td>\n",
       "      <td>900</td>\n",
       "      <td>3.0</td>\n",
       "      <td>2</td>\n",
       "      <td>Unfurnished</td>\n",
       "      <td>2.0</td>\n",
       "      <td>Yes</td>\n",
       "      <td>Once in a day - Morning</td>\n",
       "      <td>6.16</td>\n",
       "      <td>...</td>\n",
       "      <td>Medium</td>\n",
       "      <td>100.0</td>\n",
       "      <td>1.34</td>\n",
       "      <td>31.46</td>\n",
       "      <td>0.0</td>\n",
       "      <td>1.0</td>\n",
       "      <td>0.0</td>\n",
       "      <td>0.0</td>\n",
       "      <td>0.0</td>\n",
       "      <td>0.0</td>\n",
       "    </tr>\n",
       "    <tr>\n",
       "      <th>4</th>\n",
       "      <td>0x9409</td>\n",
       "      <td>Bungalow</td>\n",
       "      <td>2238</td>\n",
       "      <td>14.0</td>\n",
       "      <td>6</td>\n",
       "      <td>Fully Furnished</td>\n",
       "      <td>0.0</td>\n",
       "      <td>No</td>\n",
       "      <td>All time</td>\n",
       "      <td>5.46</td>\n",
       "      <td>...</td>\n",
       "      <td>Medium</td>\n",
       "      <td>116.0</td>\n",
       "      <td>4.77</td>\n",
       "      <td>93.70</td>\n",
       "      <td>0.0</td>\n",
       "      <td>0.0</td>\n",
       "      <td>1.0</td>\n",
       "      <td>0.0</td>\n",
       "      <td>0.0</td>\n",
       "      <td>0.0</td>\n",
       "    </tr>\n",
       "  </tbody>\n",
       "</table>\n",
       "<p>5 rows × 21 columns</p>\n",
       "</div>"
      ],
      "text/plain": [
       "       Id Property_Type  Property_Area  Number_of_Windows  Number_of_Doors  \\\n",
       "0  0x21e3     Apartment            106                NaN                1   \n",
       "1  0x68d4     Apartment            733                2.0                2   \n",
       "2  0x7d81     Apartment            737                4.0                2   \n",
       "3  0x7a57     Apartment            900                3.0                2   \n",
       "4  0x9409      Bungalow           2238               14.0                6   \n",
       "\n",
       "        Furnishing  Frequency_of_Powercuts Power_Backup  \\\n",
       "0   Semi_Furnished                     0.0           No   \n",
       "1      Unfurnished                     1.0           No   \n",
       "2  Fully Furnished                     0.0           No   \n",
       "3      Unfurnished                     2.0          Yes   \n",
       "4  Fully Furnished                     0.0           No   \n",
       "\n",
       "              Water_Supply  Traffic_Density_Score  ... Dust_and_Noise  \\\n",
       "0  Once in a day - Morning                   5.89  ...         Medium   \n",
       "1  Once in a day - Evening                   4.37  ...         Medium   \n",
       "2  Once in a day - Morning                   7.45  ...         Medium   \n",
       "3  Once in a day - Morning                   6.16  ...         Medium   \n",
       "4                 All time                   5.46  ...         Medium   \n",
       "\n",
       "  Air_Quality_Index  Neighborhood_Review  Habitability_score  #R%$G&867  \\\n",
       "0              90.0                 3.86               71.98        0.0   \n",
       "1              96.0                 3.55               71.20        0.0   \n",
       "2             121.0                 3.81               71.39        0.0   \n",
       "3             100.0                 1.34               31.46        0.0   \n",
       "4             116.0                 4.77               93.70        0.0   \n",
       "\n",
       "   Apartment  Bungalow  Container Home  Duplex  Single-family home  \n",
       "0        1.0       0.0             0.0     0.0                 0.0  \n",
       "1        1.0       0.0             0.0     0.0                 0.0  \n",
       "2        1.0       0.0             0.0     0.0                 0.0  \n",
       "3        1.0       0.0             0.0     0.0                 0.0  \n",
       "4        0.0       1.0             0.0     0.0                 0.0  \n",
       "\n",
       "[5 rows x 21 columns]"
      ]
     },
     "execution_count": 158,
     "metadata": {},
     "output_type": "execute_result"
    }
   ],
   "source": [
    "train.head()"
   ]
  },
  {
   "cell_type": "code",
   "execution_count": 159,
   "metadata": {},
   "outputs": [
    {
     "name": "stdout",
     "output_type": "stream",
     "text": [
      "<class 'pandas.core.frame.DataFrame'>\n",
      "RangeIndex: 31599 entries, 0 to 31598\n",
      "Data columns (total 21 columns):\n",
      " #   Column                  Non-Null Count  Dtype  \n",
      "---  ------                  --------------  -----  \n",
      " 0   Id                      31599 non-null  object \n",
      " 1   Property_Type           31599 non-null  object \n",
      " 2   Property_Area           31599 non-null  int64  \n",
      " 3   Number_of_Windows       30266 non-null  float64\n",
      " 4   Number_of_Doors         31599 non-null  int64  \n",
      " 5   Furnishing              30771 non-null  object \n",
      " 6   Frequency_of_Powercuts  30490 non-null  float64\n",
      " 7   Power_Backup            31599 non-null  object \n",
      " 8   Water_Supply            31599 non-null  object \n",
      " 9   Traffic_Density_Score   31599 non-null  float64\n",
      " 10  Crime_Rate              30970 non-null  object \n",
      " 11  Dust_and_Noise          30600 non-null  object \n",
      " 12  Air_Quality_Index       31599 non-null  float64\n",
      " 13  Neighborhood_Review     31599 non-null  float64\n",
      " 14  Habitability_score      31599 non-null  float64\n",
      " 15  #R%$G&867               31599 non-null  float64\n",
      " 16  Apartment               31599 non-null  float64\n",
      " 17  Bungalow                31599 non-null  float64\n",
      " 18  Container Home          31599 non-null  float64\n",
      " 19  Duplex                  31599 non-null  float64\n",
      " 20  Single-family home      31599 non-null  float64\n",
      "dtypes: float64(12), int64(2), object(7)\n",
      "memory usage: 5.1+ MB\n"
     ]
    }
   ],
   "source": [
    "train.info()"
   ]
  },
  {
   "cell_type": "code",
   "execution_count": 160,
   "metadata": {},
   "outputs": [
    {
     "data": {
      "text/plain": [
       "array(['Semi_Furnished', 'Unfurnished', 'Fully Furnished', nan],\n",
       "      dtype=object)"
      ]
     },
     "execution_count": 160,
     "metadata": {},
     "output_type": "execute_result"
    }
   ],
   "source": [
    "train[\"Furnishing\"].unique()"
   ]
  },
  {
   "cell_type": "code",
   "execution_count": 161,
   "metadata": {},
   "outputs": [
    {
     "data": {
      "text/plain": [
       "Furnishing\n",
       "Semi_Furnished     16314\n",
       "Unfurnished         8279\n",
       "Fully Furnished     6178\n",
       "Name: count, dtype: int64"
      ]
     },
     "execution_count": 161,
     "metadata": {},
     "output_type": "execute_result"
    }
   ],
   "source": [
    "train[\"Furnishing\"].value_counts()"
   ]
  },
  {
   "cell_type": "code",
   "execution_count": 162,
   "metadata": {},
   "outputs": [],
   "source": [
    "from sklearn.impute import SimpleImputer\n",
    "from sklearn.preprocessing import OrdinalEncoder\n",
    "\n",
    "status_order = ['Unfurnished' , 'Semi_Furnished' , 'Fully Furnished']\n",
    "oe1 = OrdinalEncoder(categories=[status_order])\n",
    "imputer = SimpleImputer(strategy='most_frequent')\n",
    "train[[\"Furnishing\"]] = imputer.fit_transform(train[[\"Furnishing\"]])\n",
    "test[[\"Furnishing\"]] = imputer.fit_transform(test[[\"Furnishing\"]])\n",
    "train[[\"Furnishing\"]] = oe1.fit_transform(train[[\"Furnishing\"]])\n",
    "test[[\"Furnishing\"]] = oe1.fit_transform(test[[\"Furnishing\"]])"
   ]
  },
  {
   "cell_type": "code",
   "execution_count": 163,
   "metadata": {},
   "outputs": [
    {
     "data": {
      "text/plain": [
       "array([1., 0., 2.])"
      ]
     },
     "execution_count": 163,
     "metadata": {},
     "output_type": "execute_result"
    }
   ],
   "source": [
    "train[\"Furnishing\"].unique()"
   ]
  },
  {
   "cell_type": "code",
   "execution_count": 164,
   "metadata": {},
   "outputs": [
    {
     "data": {
      "text/html": [
       "<div>\n",
       "<style scoped>\n",
       "    .dataframe tbody tr th:only-of-type {\n",
       "        vertical-align: middle;\n",
       "    }\n",
       "\n",
       "    .dataframe tbody tr th {\n",
       "        vertical-align: top;\n",
       "    }\n",
       "\n",
       "    .dataframe thead th {\n",
       "        text-align: right;\n",
       "    }\n",
       "</style>\n",
       "<table border=\"1\" class=\"dataframe\">\n",
       "  <thead>\n",
       "    <tr style=\"text-align: right;\">\n",
       "      <th></th>\n",
       "      <th>Id</th>\n",
       "      <th>Property_Type</th>\n",
       "      <th>Property_Area</th>\n",
       "      <th>Number_of_Windows</th>\n",
       "      <th>Number_of_Doors</th>\n",
       "      <th>Furnishing</th>\n",
       "      <th>Frequency_of_Powercuts</th>\n",
       "      <th>Power_Backup</th>\n",
       "      <th>Water_Supply</th>\n",
       "      <th>Traffic_Density_Score</th>\n",
       "      <th>...</th>\n",
       "      <th>Dust_and_Noise</th>\n",
       "      <th>Air_Quality_Index</th>\n",
       "      <th>Neighborhood_Review</th>\n",
       "      <th>Habitability_score</th>\n",
       "      <th>#R%$G&amp;867</th>\n",
       "      <th>Apartment</th>\n",
       "      <th>Bungalow</th>\n",
       "      <th>Container Home</th>\n",
       "      <th>Duplex</th>\n",
       "      <th>Single-family home</th>\n",
       "    </tr>\n",
       "  </thead>\n",
       "  <tbody>\n",
       "    <tr>\n",
       "      <th>0</th>\n",
       "      <td>0x21e3</td>\n",
       "      <td>Apartment</td>\n",
       "      <td>106</td>\n",
       "      <td>NaN</td>\n",
       "      <td>1</td>\n",
       "      <td>1.0</td>\n",
       "      <td>0.0</td>\n",
       "      <td>No</td>\n",
       "      <td>Once in a day - Morning</td>\n",
       "      <td>5.89</td>\n",
       "      <td>...</td>\n",
       "      <td>Medium</td>\n",
       "      <td>90.0</td>\n",
       "      <td>3.86</td>\n",
       "      <td>71.98</td>\n",
       "      <td>0.0</td>\n",
       "      <td>1.0</td>\n",
       "      <td>0.0</td>\n",
       "      <td>0.0</td>\n",
       "      <td>0.0</td>\n",
       "      <td>0.0</td>\n",
       "    </tr>\n",
       "    <tr>\n",
       "      <th>1</th>\n",
       "      <td>0x68d4</td>\n",
       "      <td>Apartment</td>\n",
       "      <td>733</td>\n",
       "      <td>2.0</td>\n",
       "      <td>2</td>\n",
       "      <td>0.0</td>\n",
       "      <td>1.0</td>\n",
       "      <td>No</td>\n",
       "      <td>Once in a day - Evening</td>\n",
       "      <td>4.37</td>\n",
       "      <td>...</td>\n",
       "      <td>Medium</td>\n",
       "      <td>96.0</td>\n",
       "      <td>3.55</td>\n",
       "      <td>71.20</td>\n",
       "      <td>0.0</td>\n",
       "      <td>1.0</td>\n",
       "      <td>0.0</td>\n",
       "      <td>0.0</td>\n",
       "      <td>0.0</td>\n",
       "      <td>0.0</td>\n",
       "    </tr>\n",
       "    <tr>\n",
       "      <th>2</th>\n",
       "      <td>0x7d81</td>\n",
       "      <td>Apartment</td>\n",
       "      <td>737</td>\n",
       "      <td>4.0</td>\n",
       "      <td>2</td>\n",
       "      <td>2.0</td>\n",
       "      <td>0.0</td>\n",
       "      <td>No</td>\n",
       "      <td>Once in a day - Morning</td>\n",
       "      <td>7.45</td>\n",
       "      <td>...</td>\n",
       "      <td>Medium</td>\n",
       "      <td>121.0</td>\n",
       "      <td>3.81</td>\n",
       "      <td>71.39</td>\n",
       "      <td>0.0</td>\n",
       "      <td>1.0</td>\n",
       "      <td>0.0</td>\n",
       "      <td>0.0</td>\n",
       "      <td>0.0</td>\n",
       "      <td>0.0</td>\n",
       "    </tr>\n",
       "    <tr>\n",
       "      <th>3</th>\n",
       "      <td>0x7a57</td>\n",
       "      <td>Apartment</td>\n",
       "      <td>900</td>\n",
       "      <td>3.0</td>\n",
       "      <td>2</td>\n",
       "      <td>0.0</td>\n",
       "      <td>2.0</td>\n",
       "      <td>Yes</td>\n",
       "      <td>Once in a day - Morning</td>\n",
       "      <td>6.16</td>\n",
       "      <td>...</td>\n",
       "      <td>Medium</td>\n",
       "      <td>100.0</td>\n",
       "      <td>1.34</td>\n",
       "      <td>31.46</td>\n",
       "      <td>0.0</td>\n",
       "      <td>1.0</td>\n",
       "      <td>0.0</td>\n",
       "      <td>0.0</td>\n",
       "      <td>0.0</td>\n",
       "      <td>0.0</td>\n",
       "    </tr>\n",
       "    <tr>\n",
       "      <th>4</th>\n",
       "      <td>0x9409</td>\n",
       "      <td>Bungalow</td>\n",
       "      <td>2238</td>\n",
       "      <td>14.0</td>\n",
       "      <td>6</td>\n",
       "      <td>2.0</td>\n",
       "      <td>0.0</td>\n",
       "      <td>No</td>\n",
       "      <td>All time</td>\n",
       "      <td>5.46</td>\n",
       "      <td>...</td>\n",
       "      <td>Medium</td>\n",
       "      <td>116.0</td>\n",
       "      <td>4.77</td>\n",
       "      <td>93.70</td>\n",
       "      <td>0.0</td>\n",
       "      <td>0.0</td>\n",
       "      <td>1.0</td>\n",
       "      <td>0.0</td>\n",
       "      <td>0.0</td>\n",
       "      <td>0.0</td>\n",
       "    </tr>\n",
       "  </tbody>\n",
       "</table>\n",
       "<p>5 rows × 21 columns</p>\n",
       "</div>"
      ],
      "text/plain": [
       "       Id Property_Type  Property_Area  Number_of_Windows  Number_of_Doors  \\\n",
       "0  0x21e3     Apartment            106                NaN                1   \n",
       "1  0x68d4     Apartment            733                2.0                2   \n",
       "2  0x7d81     Apartment            737                4.0                2   \n",
       "3  0x7a57     Apartment            900                3.0                2   \n",
       "4  0x9409      Bungalow           2238               14.0                6   \n",
       "\n",
       "   Furnishing  Frequency_of_Powercuts Power_Backup             Water_Supply  \\\n",
       "0         1.0                     0.0           No  Once in a day - Morning   \n",
       "1         0.0                     1.0           No  Once in a day - Evening   \n",
       "2         2.0                     0.0           No  Once in a day - Morning   \n",
       "3         0.0                     2.0          Yes  Once in a day - Morning   \n",
       "4         2.0                     0.0           No                 All time   \n",
       "\n",
       "   Traffic_Density_Score  ... Dust_and_Noise Air_Quality_Index  \\\n",
       "0                   5.89  ...         Medium              90.0   \n",
       "1                   4.37  ...         Medium              96.0   \n",
       "2                   7.45  ...         Medium             121.0   \n",
       "3                   6.16  ...         Medium             100.0   \n",
       "4                   5.46  ...         Medium             116.0   \n",
       "\n",
       "   Neighborhood_Review  Habitability_score  #R%$G&867  Apartment  Bungalow  \\\n",
       "0                 3.86               71.98        0.0        1.0       0.0   \n",
       "1                 3.55               71.20        0.0        1.0       0.0   \n",
       "2                 3.81               71.39        0.0        1.0       0.0   \n",
       "3                 1.34               31.46        0.0        1.0       0.0   \n",
       "4                 4.77               93.70        0.0        0.0       1.0   \n",
       "\n",
       "   Container Home  Duplex  Single-family home  \n",
       "0             0.0     0.0                 0.0  \n",
       "1             0.0     0.0                 0.0  \n",
       "2             0.0     0.0                 0.0  \n",
       "3             0.0     0.0                 0.0  \n",
       "4             0.0     0.0                 0.0  \n",
       "\n",
       "[5 rows x 21 columns]"
      ]
     },
     "execution_count": 164,
     "metadata": {},
     "output_type": "execute_result"
    }
   ],
   "source": [
    "train.head()"
   ]
  },
  {
   "cell_type": "code",
   "execution_count": 165,
   "metadata": {},
   "outputs": [],
   "source": [
    "imputer = SimpleImputer(strategy='mean')\n",
    "train[[\"Frequency_of_Powercuts\"]] = imputer.fit_transform(train[[\"Frequency_of_Powercuts\"]])\n",
    "train[\"Frequency_of_Powercuts\"] = train[\"Frequency_of_Powercuts\"].round()\n",
    "\n",
    "test[[\"Frequency_of_Powercuts\"]] = imputer.fit_transform(test[[\"Frequency_of_Powercuts\"]])\n",
    "test[\"Frequency_of_Powercuts\"] = test[\"Frequency_of_Powercuts\"].round()"
   ]
  },
  {
   "cell_type": "code",
   "execution_count": 166,
   "metadata": {},
   "outputs": [
    {
     "data": {
      "text/plain": [
       "array([0., 1., 2., 3.])"
      ]
     },
     "execution_count": 166,
     "metadata": {},
     "output_type": "execute_result"
    }
   ],
   "source": [
    "train[\"Frequency_of_Powercuts\"].unique()"
   ]
  },
  {
   "cell_type": "code",
   "execution_count": 167,
   "metadata": {},
   "outputs": [],
   "source": [
    "power_order = ['NOT MENTIONED' , 'No' , 'Yes']\n",
    "oe2 = OrdinalEncoder(categories=[power_order])\n",
    "train[[\"Power_Backup\"]] = oe2.fit_transform(train[[\"Power_Backup\"]])\n",
    "test[[\"Power_Backup\"]] = oe2.fit_transform(test[[\"Power_Backup\"]])"
   ]
  },
  {
   "cell_type": "code",
   "execution_count": 168,
   "metadata": {},
   "outputs": [
    {
     "data": {
      "text/plain": [
       "array(['Once in a day - Morning', 'Once in a day - Evening', 'All time',\n",
       "       'NOT MENTIONED', 'Once in two days'], dtype=object)"
      ]
     },
     "execution_count": 168,
     "metadata": {},
     "output_type": "execute_result"
    }
   ],
   "source": [
    "train[\"Water_Supply\"].unique()"
   ]
  },
  {
   "cell_type": "code",
   "execution_count": 169,
   "metadata": {},
   "outputs": [],
   "source": [
    "water_order = ['NOT MENTIONED' , 'Once in two days' , 'Once in a day - Evening' , 'Once in a day - Morning' , 'All time']\n",
    "oe3  = OrdinalEncoder(categories=[water_order])\n",
    "train[\"Water_Supply\"] = oe3.fit_transform(train[[\"Water_Supply\"]])\n",
    "test[\"Water_Supply\"] = oe3.fit_transform(test[[\"Water_Supply\"]])"
   ]
  },
  {
   "cell_type": "code",
   "execution_count": 170,
   "metadata": {},
   "outputs": [
    {
     "data": {
      "text/plain": [
       "array(['Slightly below average', 'Well below average',\n",
       "       'Well above average', nan, 'Slightly above average'], dtype=object)"
      ]
     },
     "execution_count": 170,
     "metadata": {},
     "output_type": "execute_result"
    }
   ],
   "source": [
    "train[\"Crime_Rate\"].unique()"
   ]
  },
  {
   "cell_type": "code",
   "execution_count": 171,
   "metadata": {},
   "outputs": [
    {
     "name": "stderr",
     "output_type": "stream",
     "text": [
      "C:\\Users\\Chirantha Ravishan\\AppData\\Local\\Temp\\ipykernel_9396\\1171710552.py:13: FutureWarning: ChainedAssignmentError: behaviour will change in pandas 3.0!\n",
      "You are setting values through chained assignment. Currently this works in certain cases, but when using Copy-on-Write (which will become the default behaviour in pandas 3.0) this will never work to update the original DataFrame or Series, because the intermediate object on which we are setting values will behave as a copy.\n",
      "A typical example is when you are setting values in a column of a DataFrame, like:\n",
      "\n",
      "df[\"col\"][row_indexer] = value\n",
      "\n",
      "Use `df.loc[row_indexer, \"col\"] = values` instead, to perform the assignment in a single step and ensure this keeps updating the original `df`.\n",
      "\n",
      "See the caveats in the documentation: https://pandas.pydata.org/pandas-docs/stable/user_guide/indexing.html#returning-a-view-versus-a-copy\n",
      "\n",
      "  train[\"Crime_Rate\"].loc[~missing_value_mask_crime] = encoded_values_crime.flatten()\n",
      "C:\\Users\\Chirantha Ravishan\\AppData\\Local\\Temp\\ipykernel_9396\\1171710552.py:13: SettingWithCopyWarning: \n",
      "A value is trying to be set on a copy of a slice from a DataFrame\n",
      "\n",
      "See the caveats in the documentation: https://pandas.pydata.org/pandas-docs/stable/user_guide/indexing.html#returning-a-view-versus-a-copy\n",
      "  train[\"Crime_Rate\"].loc[~missing_value_mask_crime] = encoded_values_crime.flatten()\n",
      "C:\\Users\\Chirantha Ravishan\\AppData\\Local\\Temp\\ipykernel_9396\\1171710552.py:18: FutureWarning: ChainedAssignmentError: behaviour will change in pandas 3.0!\n",
      "You are setting values through chained assignment. Currently this works in certain cases, but when using Copy-on-Write (which will become the default behaviour in pandas 3.0) this will never work to update the original DataFrame or Series, because the intermediate object on which we are setting values will behave as a copy.\n",
      "A typical example is when you are setting values in a column of a DataFrame, like:\n",
      "\n",
      "df[\"col\"][row_indexer] = value\n",
      "\n",
      "Use `df.loc[row_indexer, \"col\"] = values` instead, to perform the assignment in a single step and ensure this keeps updating the original `df`.\n",
      "\n",
      "See the caveats in the documentation: https://pandas.pydata.org/pandas-docs/stable/user_guide/indexing.html#returning-a-view-versus-a-copy\n",
      "\n",
      "  test[\"Crime_Rate\"].loc[~missing_value_mask_crime_test] = encoded_values_crime_test.flatten()\n",
      "C:\\Users\\Chirantha Ravishan\\AppData\\Local\\Temp\\ipykernel_9396\\1171710552.py:18: SettingWithCopyWarning: \n",
      "A value is trying to be set on a copy of a slice from a DataFrame\n",
      "\n",
      "See the caveats in the documentation: https://pandas.pydata.org/pandas-docs/stable/user_guide/indexing.html#returning-a-view-versus-a-copy\n",
      "  test[\"Crime_Rate\"].loc[~missing_value_mask_crime_test] = encoded_values_crime_test.flatten()\n"
     ]
    }
   ],
   "source": [
    "crime_order = ['Well below average' , 'Slightly below average' , 'Slightly above average' , 'Well above average']\n",
    "imputer_crime = SimpleImputer(strategy='mean')\n",
    "\n",
    "missing_value_mask_crime = train[\"Crime_Rate\"].isnull()\n",
    "non_missing_values_crime = train[\"Crime_Rate\"][~missing_value_mask_crime].values.reshape(-1,1)\n",
    "\n",
    "missing_value_mask_crime_test = test[\"Crime_Rate\"].isnull()\n",
    "non_missing_values_crime_test = test[\"Crime_Rate\"][~missing_value_mask_crime_test].values.reshape(-1,1)\n",
    "\n",
    "oe4 = OrdinalEncoder(categories=[crime_order])\n",
    "\n",
    "encoded_values_crime = oe4.fit_transform(non_missing_values_crime)\n",
    "train[\"Crime_Rate\"].loc[~missing_value_mask_crime] = encoded_values_crime.flatten()\n",
    "train[['Crime_Rate']] = imputer_crime.fit_transform(train[[\"Crime_Rate\"]])\n",
    "train[[\"Crime_Rate\"]] = train[[\"Crime_Rate\"]].round()\n",
    "\n",
    "encoded_values_crime_test = oe4.fit_transform(non_missing_values_crime_test)\n",
    "test[\"Crime_Rate\"].loc[~missing_value_mask_crime_test] = encoded_values_crime_test.flatten()\n",
    "test[['Crime_Rate']] = imputer_crime.fit_transform(test[[\"Crime_Rate\"]])\n",
    "test[[\"Crime_Rate\"]] = test[[\"Crime_Rate\"]].round()"
   ]
  },
  {
   "cell_type": "code",
   "execution_count": 172,
   "metadata": {},
   "outputs": [
    {
     "data": {
      "text/plain": [
       "array(['Medium', nan, 'High', 'Low'], dtype=object)"
      ]
     },
     "execution_count": 172,
     "metadata": {},
     "output_type": "execute_result"
    }
   ],
   "source": [
    "train[\"Dust_and_Noise\"].unique()"
   ]
  },
  {
   "cell_type": "code",
   "execution_count": 173,
   "metadata": {},
   "outputs": [
    {
     "data": {
      "text/plain": [
       "Dust_and_Noise\n",
       "Medium    26376\n",
       "High       2572\n",
       "Low        1652\n",
       "Name: count, dtype: int64"
      ]
     },
     "execution_count": 173,
     "metadata": {},
     "output_type": "execute_result"
    }
   ],
   "source": [
    "train[\"Dust_and_Noise\"].value_counts()"
   ]
  },
  {
   "cell_type": "code",
   "execution_count": 174,
   "metadata": {},
   "outputs": [
    {
     "name": "stderr",
     "output_type": "stream",
     "text": [
      "C:\\Users\\Chirantha Ravishan\\AppData\\Local\\Temp\\ipykernel_9396\\555493017.py:6: FutureWarning: ChainedAssignmentError: behaviour will change in pandas 3.0!\n",
      "You are setting values through chained assignment. Currently this works in certain cases, but when using Copy-on-Write (which will become the default behaviour in pandas 3.0) this will never work to update the original DataFrame or Series, because the intermediate object on which we are setting values will behave as a copy.\n",
      "A typical example is when you are setting values in a column of a DataFrame, like:\n",
      "\n",
      "df[\"col\"][row_indexer] = value\n",
      "\n",
      "Use `df.loc[row_indexer, \"col\"] = values` instead, to perform the assignment in a single step and ensure this keeps updating the original `df`.\n",
      "\n",
      "See the caveats in the documentation: https://pandas.pydata.org/pandas-docs/stable/user_guide/indexing.html#returning-a-view-versus-a-copy\n",
      "\n",
      "  train[\"Dust_and_Noise\"].loc[~missing_value_mask_dust] = encoded_values.flatten()\n",
      "C:\\Users\\Chirantha Ravishan\\AppData\\Local\\Temp\\ipykernel_9396\\555493017.py:6: SettingWithCopyWarning: \n",
      "A value is trying to be set on a copy of a slice from a DataFrame\n",
      "\n",
      "See the caveats in the documentation: https://pandas.pydata.org/pandas-docs/stable/user_guide/indexing.html#returning-a-view-versus-a-copy\n",
      "  train[\"Dust_and_Noise\"].loc[~missing_value_mask_dust] = encoded_values.flatten()\n",
      "C:\\Users\\Chirantha Ravishan\\AppData\\Local\\Temp\\ipykernel_9396\\555493017.py:12: FutureWarning: ChainedAssignmentError: behaviour will change in pandas 3.0!\n",
      "You are setting values through chained assignment. Currently this works in certain cases, but when using Copy-on-Write (which will become the default behaviour in pandas 3.0) this will never work to update the original DataFrame or Series, because the intermediate object on which we are setting values will behave as a copy.\n",
      "A typical example is when you are setting values in a column of a DataFrame, like:\n",
      "\n",
      "df[\"col\"][row_indexer] = value\n",
      "\n",
      "Use `df.loc[row_indexer, \"col\"] = values` instead, to perform the assignment in a single step and ensure this keeps updating the original `df`.\n",
      "\n",
      "See the caveats in the documentation: https://pandas.pydata.org/pandas-docs/stable/user_guide/indexing.html#returning-a-view-versus-a-copy\n",
      "\n",
      "  test[\"Dust_and_Noise\"].loc[~missing_value_mask_dust_test] = encoded_values_test.flatten()\n",
      "C:\\Users\\Chirantha Ravishan\\AppData\\Local\\Temp\\ipykernel_9396\\555493017.py:12: SettingWithCopyWarning: \n",
      "A value is trying to be set on a copy of a slice from a DataFrame\n",
      "\n",
      "See the caveats in the documentation: https://pandas.pydata.org/pandas-docs/stable/user_guide/indexing.html#returning-a-view-versus-a-copy\n",
      "  test[\"Dust_and_Noise\"].loc[~missing_value_mask_dust_test] = encoded_values_test.flatten()\n"
     ]
    }
   ],
   "source": [
    "dust_order = ['Low' , 'Medium' , 'High']\n",
    "missing_value_mask_dust = train[\"Dust_and_Noise\"].isnull()\n",
    "non_missing_values = train[\"Dust_and_Noise\"][~missing_value_mask_dust].values.reshape(-1 , 1)\n",
    "oe5 = OrdinalEncoder(categories=[dust_order])\n",
    "encoded_values = oe5.fit_transform(non_missing_values)\n",
    "train[\"Dust_and_Noise\"].loc[~missing_value_mask_dust] = encoded_values.flatten()\n",
    "\n",
    "missing_value_mask_dust_test = test[\"Dust_and_Noise\"].isnull()\n",
    "non_missing_values_test = test[\"Dust_and_Noise\"][~missing_value_mask_dust_test].values.reshape(-1 , 1)\n",
    "oe6 = OrdinalEncoder(categories=[dust_order])\n",
    "encoded_values_test = oe6.fit_transform(non_missing_values_test)\n",
    "test[\"Dust_and_Noise\"].loc[~missing_value_mask_dust_test] = encoded_values_test.flatten()"
   ]
  },
  {
   "cell_type": "code",
   "execution_count": 175,
   "metadata": {},
   "outputs": [],
   "source": [
    "imputer_dust = SimpleImputer(strategy='mean')\n",
    "train[[\"Dust_and_Noise\"]] = imputer_dust.fit_transform(train[[\"Dust_and_Noise\"]])\n",
    "train[[\"Dust_and_Noise\"]] = train[[\"Dust_and_Noise\"]].round()\n",
    "\n",
    "test[[\"Dust_and_Noise\"]] = imputer_dust.fit_transform(test[[\"Dust_and_Noise\"]])\n",
    "test[[\"Dust_and_Noise\"]] = test[[\"Dust_and_Noise\"]].round()"
   ]
  },
  {
   "cell_type": "code",
   "execution_count": 176,
   "metadata": {},
   "outputs": [
    {
     "data": {
      "text/plain": [
       "array([1., 2., 0.])"
      ]
     },
     "execution_count": 176,
     "metadata": {},
     "output_type": "execute_result"
    }
   ],
   "source": [
    "train[\"Dust_and_Noise\"].unique()"
   ]
  },
  {
   "cell_type": "code",
   "execution_count": 177,
   "metadata": {},
   "outputs": [
    {
     "name": "stdout",
     "output_type": "stream",
     "text": [
      "<class 'pandas.core.frame.DataFrame'>\n",
      "RangeIndex: 31599 entries, 0 to 31598\n",
      "Data columns (total 21 columns):\n",
      " #   Column                  Non-Null Count  Dtype  \n",
      "---  ------                  --------------  -----  \n",
      " 0   Id                      31599 non-null  object \n",
      " 1   Property_Type           31599 non-null  object \n",
      " 2   Property_Area           31599 non-null  int64  \n",
      " 3   Number_of_Windows       30266 non-null  float64\n",
      " 4   Number_of_Doors         31599 non-null  int64  \n",
      " 5   Furnishing              31599 non-null  float64\n",
      " 6   Frequency_of_Powercuts  31599 non-null  float64\n",
      " 7   Power_Backup            31599 non-null  float64\n",
      " 8   Water_Supply            31599 non-null  float64\n",
      " 9   Traffic_Density_Score   31599 non-null  float64\n",
      " 10  Crime_Rate              31599 non-null  float64\n",
      " 11  Dust_and_Noise          31599 non-null  float64\n",
      " 12  Air_Quality_Index       31599 non-null  float64\n",
      " 13  Neighborhood_Review     31599 non-null  float64\n",
      " 14  Habitability_score      31599 non-null  float64\n",
      " 15  #R%$G&867               31599 non-null  float64\n",
      " 16  Apartment               31599 non-null  float64\n",
      " 17  Bungalow                31599 non-null  float64\n",
      " 18  Container Home          31599 non-null  float64\n",
      " 19  Duplex                  31599 non-null  float64\n",
      " 20  Single-family home      31599 non-null  float64\n",
      "dtypes: float64(17), int64(2), object(2)\n",
      "memory usage: 5.1+ MB\n"
     ]
    }
   ],
   "source": [
    "train.info()"
   ]
  },
  {
   "cell_type": "code",
   "execution_count": 178,
   "metadata": {},
   "outputs": [
    {
     "name": "stdout",
     "output_type": "stream",
     "text": [
      "<class 'pandas.core.frame.DataFrame'>\n",
      "RangeIndex: 7900 entries, 0 to 7899\n",
      "Data columns (total 20 columns):\n",
      " #   Column                  Non-Null Count  Dtype  \n",
      "---  ------                  --------------  -----  \n",
      " 0   Id                      7900 non-null   object \n",
      " 1   Property_Type           7900 non-null   object \n",
      " 2   Property_Area           7900 non-null   int64  \n",
      " 3   Number_of_Windows       7579 non-null   float64\n",
      " 4   Number_of_Doors         7900 non-null   int64  \n",
      " 5   Furnishing              7900 non-null   float64\n",
      " 6   Frequency_of_Powercuts  7900 non-null   float64\n",
      " 7   Power_Backup            7900 non-null   float64\n",
      " 8   Water_Supply            7900 non-null   float64\n",
      " 9   Traffic_Density_Score   7900 non-null   float64\n",
      " 10  Crime_Rate              7900 non-null   float64\n",
      " 11  Dust_and_Noise          7900 non-null   float64\n",
      " 12  Air_Quality_Index       7900 non-null   float64\n",
      " 13  Neighborhood_Review     7900 non-null   float64\n",
      " 14  #R%$G&867               7900 non-null   float64\n",
      " 15  Apartment               7900 non-null   float64\n",
      " 16  Bungalow                7900 non-null   float64\n",
      " 17  Container Home          7900 non-null   float64\n",
      " 18  Duplex                  7900 non-null   float64\n",
      " 19  Single-family home      7900 non-null   float64\n",
      "dtypes: float64(16), int64(2), object(2)\n",
      "memory usage: 1.2+ MB\n"
     ]
    }
   ],
   "source": [
    "test.info()"
   ]
  },
  {
   "cell_type": "code",
   "execution_count": 179,
   "metadata": {},
   "outputs": [
    {
     "name": "stdout",
     "output_type": "stream",
     "text": [
      "Null values exist in the DataFrame.\n"
     ]
    }
   ],
   "source": [
    "null_values_exist = test.isnull().any().any()\n",
    "\n",
    "# Print the result\n",
    "if null_values_exist:\n",
    "    print(\"Null values exist in the DataFrame.\")\n",
    "else:\n",
    "    print(\"No null values found in the DataFrame.\")"
   ]
  },
  {
   "cell_type": "code",
   "execution_count": 180,
   "metadata": {},
   "outputs": [
    {
     "name": "stdout",
     "output_type": "stream",
     "text": [
      "No null values found in the DataFrame.\n"
     ]
    }
   ],
   "source": [
    "null_values_exist = test[\"Neighborhood_Review\"].isnull().values.any()\n",
    "\n",
    "# Print the result\n",
    "if null_values_exist:\n",
    "    print(\"Null values exist in the DataFrame.\")\n",
    "else:\n",
    "    print(\"No null values found in the DataFrame.\")"
   ]
  },
  {
   "cell_type": "code",
   "execution_count": 181,
   "metadata": {},
   "outputs": [],
   "source": [
    "imputer_windows = SimpleImputer(strategy='mean')\n",
    "train[[\"Number_of_Windows\"]] = imputer_windows.fit_transform(train[[\"Number_of_Windows\"]])\n",
    "train[[\"Number_of_Windows\"]]= train[[\"Number_of_Windows\"]].round()\n",
    "\n",
    "test[[\"Number_of_Windows\"]] = imputer_windows.fit_transform(test[[\"Number_of_Windows\"]])\n",
    "test[[\"Number_of_Windows\"]]= test[[\"Number_of_Windows\"]].round()"
   ]
  },
  {
   "cell_type": "code",
   "execution_count": 182,
   "metadata": {},
   "outputs": [],
   "source": [
    "train.drop(columns=[\"Property_Type\" ,\"Id\" ] , inplace=True)\n",
    "test.drop(columns=[\"Property_Type\"] , inplace=True)"
   ]
  },
  {
   "cell_type": "code",
   "execution_count": 183,
   "metadata": {},
   "outputs": [
    {
     "name": "stdout",
     "output_type": "stream",
     "text": [
      "<class 'pandas.core.frame.DataFrame'>\n",
      "RangeIndex: 31599 entries, 0 to 31598\n",
      "Data columns (total 19 columns):\n",
      " #   Column                  Non-Null Count  Dtype  \n",
      "---  ------                  --------------  -----  \n",
      " 0   Property_Area           31599 non-null  int64  \n",
      " 1   Number_of_Windows       31599 non-null  float64\n",
      " 2   Number_of_Doors         31599 non-null  int64  \n",
      " 3   Furnishing              31599 non-null  float64\n",
      " 4   Frequency_of_Powercuts  31599 non-null  float64\n",
      " 5   Power_Backup            31599 non-null  float64\n",
      " 6   Water_Supply            31599 non-null  float64\n",
      " 7   Traffic_Density_Score   31599 non-null  float64\n",
      " 8   Crime_Rate              31599 non-null  float64\n",
      " 9   Dust_and_Noise          31599 non-null  float64\n",
      " 10  Air_Quality_Index       31599 non-null  float64\n",
      " 11  Neighborhood_Review     31599 non-null  float64\n",
      " 12  Habitability_score      31599 non-null  float64\n",
      " 13  #R%$G&867               31599 non-null  float64\n",
      " 14  Apartment               31599 non-null  float64\n",
      " 15  Bungalow                31599 non-null  float64\n",
      " 16  Container Home          31599 non-null  float64\n",
      " 17  Duplex                  31599 non-null  float64\n",
      " 18  Single-family home      31599 non-null  float64\n",
      "dtypes: float64(17), int64(2)\n",
      "memory usage: 4.6 MB\n"
     ]
    }
   ],
   "source": [
    "train.info()"
   ]
  },
  {
   "cell_type": "code",
   "execution_count": 184,
   "metadata": {},
   "outputs": [
    {
     "data": {
      "image/png": "[encoded data removed]",
      "text/plain": [
       "<Figure size 2000x2000 with 2 Axes>"
      ]
     },
     "metadata": {},
     "output_type": "display_data"
    }
   ],
   "source": [
    "import matplotlib.pyplot as plt\n",
    "\n",
    "correlation_matrix = train.corr()\n",
    "\n",
    "plt.figure(figsize=(20,20))\n",
    "sns.heatmap(correlation_matrix , annot=True , cmap='coolwarm' , fmt='.2f' , linewidths=0.5)\n",
    "plt.title('Correlation Heatmap')\n",
    "plt.show()"
   ]
  },
  {
   "cell_type": "markdown",
   "metadata": {},
   "source": [
    "#### Outlier detection using normalization"
   ]
  },
  {
   "cell_type": "code",
   "execution_count": 185,
   "metadata": {},
   "outputs": [
    {
     "name": "stdout",
     "output_type": "stream",
     "text": [
      "<class 'pandas.core.frame.DataFrame'>\n",
      "RangeIndex: 31599 entries, 0 to 31598\n",
      "Data columns (total 19 columns):\n",
      " #   Column                  Non-Null Count  Dtype  \n",
      "---  ------                  --------------  -----  \n",
      " 0   Property_Area           31599 non-null  int64  \n",
      " 1   Number_of_Windows       31599 non-null  float64\n",
      " 2   Number_of_Doors         31599 non-null  int64  \n",
      " 3   Furnishing              31599 non-null  float64\n",
      " 4   Frequency_of_Powercuts  31599 non-null  float64\n",
      " 5   Power_Backup            31599 non-null  float64\n",
      " 6   Water_Supply            31599 non-null  float64\n",
      " 7   Traffic_Density_Score   31599 non-null  float64\n",
      " 8   Crime_Rate              31599 non-null  float64\n",
      " 9   Dust_and_Noise          31599 non-null  float64\n",
      " 10  Air_Quality_Index       31599 non-null  float64\n",
      " 11  Neighborhood_Review     31599 non-null  float64\n",
      " 12  Habitability_score      31599 non-null  float64\n",
      " 13  #R%$G&867               31599 non-null  float64\n",
      " 14  Apartment               31599 non-null  float64\n",
      " 15  Bungalow                31599 non-null  float64\n",
      " 16  Container Home          31599 non-null  float64\n",
      " 17  Duplex                  31599 non-null  float64\n",
      " 18  Single-family home      31599 non-null  float64\n",
      "dtypes: float64(17), int64(2)\n",
      "memory usage: 4.6 MB\n"
     ]
    }
   ],
   "source": [
    "train.info()"
   ]
  },
  {
   "cell_type": "code",
   "execution_count": 186,
   "metadata": {},
   "outputs": [
    {
     "data": {
      "text/plain": [
       "5668"
      ]
     },
     "execution_count": 186,
     "metadata": {},
     "output_type": "execute_result"
    }
   ],
   "source": [
    "def detectOutliers(df):\n",
    "    outlier_indices = []\n",
    "    threshold = 3\n",
    "    for col in df.columns:\n",
    "        mean = np.mean(df[col])\n",
    "        std = np.std(df[col])\n",
    "        outliers = (df[col] - mean)>threshold*std\n",
    "        outlier_indices.extend(outliers[outliers].index)\n",
    "    \n",
    "    return list(set(outlier_indices))\n",
    "\n",
    "outlier_idices = detectOutliers(train)\n",
    "train=train.drop(outlier_idices)\n",
    "\n",
    "len(outlier_idices)"
   ]
  },
  {
   "cell_type": "code",
   "execution_count": 187,
   "metadata": {},
   "outputs": [
    {
     "name": "stdout",
     "output_type": "stream",
     "text": [
      "True\n"
     ]
    }
   ],
   "source": [
    "print(len(outlier_idices) == len(set(outlier_idices)))"
   ]
  },
  {
   "cell_type": "code",
   "execution_count": 188,
   "metadata": {},
   "outputs": [
    {
     "name": "stdout",
     "output_type": "stream",
     "text": [
      "<class 'pandas.core.frame.DataFrame'>\n",
      "Index: 25931 entries, 0 to 31598\n",
      "Data columns (total 19 columns):\n",
      " #   Column                  Non-Null Count  Dtype  \n",
      "---  ------                  --------------  -----  \n",
      " 0   Property_Area           25931 non-null  int64  \n",
      " 1   Number_of_Windows       25931 non-null  float64\n",
      " 2   Number_of_Doors         25931 non-null  int64  \n",
      " 3   Furnishing              25931 non-null  float64\n",
      " 4   Frequency_of_Powercuts  25931 non-null  float64\n",
      " 5   Power_Backup            25931 non-null  float64\n",
      " 6   Water_Supply            25931 non-null  float64\n",
      " 7   Traffic_Density_Score   25931 non-null  float64\n",
      " 8   Crime_Rate              25931 non-null  float64\n",
      " 9   Dust_and_Noise          25931 non-null  float64\n",
      " 10  Air_Quality_Index       25931 non-null  float64\n",
      " 11  Neighborhood_Review     25931 non-null  float64\n",
      " 12  Habitability_score      25931 non-null  float64\n",
      " 13  #R%$G&867               25931 non-null  float64\n",
      " 14  Apartment               25931 non-null  float64\n",
      " 15  Bungalow                25931 non-null  float64\n",
      " 16  Container Home          25931 non-null  float64\n",
      " 17  Duplex                  25931 non-null  float64\n",
      " 18  Single-family home      25931 non-null  float64\n",
      "dtypes: float64(17), int64(2)\n",
      "memory usage: 4.0 MB\n"
     ]
    }
   ],
   "source": [
    "train.info()"
   ]
  },
  {
   "cell_type": "code",
   "execution_count": 189,
   "metadata": {},
   "outputs": [
    {
     "name": "stdout",
     "output_type": "stream",
     "text": [
      "812\n"
     ]
    }
   ],
   "source": [
    "def CleanOutliers(df):\n",
    "    cleaned_df = df.copy()\n",
    "\n",
    "    for col in df.columns:\n",
    "        sorted_col = df[col].sort_values()\n",
    "        q1 , q3 = np.percentile(sorted_col , [25,75])\n",
    "        iqr = q3 - q1\n",
    "\n",
    "        lower_bound = q1 - (1.5*iqr)\n",
    "        upper_bound = q3 + (1.5*iqr)\n",
    "\n",
    "        outliers_index = df[(df[col]<lower_bound) | (df[col]>upper_bound)].index\n",
    "        print(len(outliers_index))\n",
    "        cleaned_df = cleaned_df.drop(outliers_index)\n",
    "\n",
    "        return cleaned_df\n",
    "    \n",
    "train = CleanOutliers(train)\n"
   ]
  },
  {
   "cell_type": "code",
   "execution_count": 190,
   "metadata": {},
   "outputs": [
    {
     "name": "stdout",
     "output_type": "stream",
     "text": [
      "<class 'pandas.core.frame.DataFrame'>\n",
      "Index: 25119 entries, 0 to 31598\n",
      "Data columns (total 19 columns):\n",
      " #   Column                  Non-Null Count  Dtype  \n",
      "---  ------                  --------------  -----  \n",
      " 0   Property_Area           25119 non-null  int64  \n",
      " 1   Number_of_Windows       25119 non-null  float64\n",
      " 2   Number_of_Doors         25119 non-null  int64  \n",
      " 3   Furnishing              25119 non-null  float64\n",
      " 4   Frequency_of_Powercuts  25119 non-null  float64\n",
      " 5   Power_Backup            25119 non-null  float64\n",
      " 6   Water_Supply            25119 non-null  float64\n",
      " 7   Traffic_Density_Score   25119 non-null  float64\n",
      " 8   Crime_Rate              25119 non-null  float64\n",
      " 9   Dust_and_Noise          25119 non-null  float64\n",
      " 10  Air_Quality_Index       25119 non-null  float64\n",
      " 11  Neighborhood_Review     25119 non-null  float64\n",
      " 12  Habitability_score      25119 non-null  float64\n",
      " 13  #R%$G&867               25119 non-null  float64\n",
      " 14  Apartment               25119 non-null  float64\n",
      " 15  Bungalow                25119 non-null  float64\n",
      " 16  Container Home          25119 non-null  float64\n",
      " 17  Duplex                  25119 non-null  float64\n",
      " 18  Single-family home      25119 non-null  float64\n",
      "dtypes: float64(17), int64(2)\n",
      "memory usage: 3.8 MB\n"
     ]
    }
   ],
   "source": [
    "train.info()"
   ]
  },
  {
   "cell_type": "code",
   "execution_count": 191,
   "metadata": {},
   "outputs": [],
   "source": [
    "X = train.drop(columns=train.columns[12])\n",
    "Y = train.iloc[: , 12]"
   ]
  },
  {
   "cell_type": "code",
   "execution_count": 192,
   "metadata": {},
   "outputs": [
    {
     "data": {
      "text/html": [
       "<style>#sk-container-id-4 {\n",
       "  /* Definition of color scheme common for light and dark mode */\n",
       "  --sklearn-color-text: black;\n",
       "  --sklearn-color-line: gray;\n",
       "  /* Definition of color scheme for unfitted estimators */\n",
       "  --sklearn-color-unfitted-level-0: #fff5e6;\n",
       "  --sklearn-color-unfitted-level-1: #f6e4d2;\n",
       "  --sklearn-color-unfitted-level-2: #ffe0b3;\n",
       "  --sklearn-color-unfitted-level-3: chocolate;\n",
       "  /* Definition of color scheme for fitted estimators */\n",
       "  --sklearn-color-fitted-level-0: #f0f8ff;\n",
       "  --sklearn-color-fitted-level-1: #d4ebff;\n",
       "  --sklearn-color-fitted-level-2: #b3dbfd;\n",
       "  --sklearn-color-fitted-level-3: cornflowerblue;\n",
       "\n",
       "  /* Specific color for light theme */\n",
       "  --sklearn-color-text-on-default-background: var(--sg-text-color, var(--theme-code-foreground, var(--jp-content-font-color1, black)));\n",
       "  --sklearn-color-background: var(--sg-background-color, var(--theme-background, var(--jp-layout-color0, white)));\n",
       "  --sklearn-color-border-box: var(--sg-text-color, var(--theme-code-foreground, var(--jp-content-font-color1, black)));\n",
       "  --sklearn-color-icon: #696969;\n",
       "\n",
       "  @media (prefers-color-scheme: dark) {\n",
       "    /* Redefinition of color scheme for dark theme */\n",
       "    --sklearn-color-text-on-default-background: var(--sg-text-color, var(--theme-code-foreground, var(--jp-content-font-color1, white)));\n",
       "    --sklearn-color-background: var(--sg-background-color, var(--theme-background, var(--jp-layout-color0, #111)));\n",
       "    --sklearn-color-border-box: var(--sg-text-color, var(--theme-code-foreground, var(--jp-content-font-color1, white)));\n",
       "    --sklearn-color-icon: #878787;\n",
       "  }\n",
       "}\n",
       "\n",
       "#sk-container-id-4 {\n",
       "  color: var(--sklearn-color-text);\n",
       "}\n",
       "\n",
       "#sk-container-id-4 pre {\n",
       "  padding: 0;\n",
       "}\n",
       "\n",
       "#sk-container-id-4 input.sk-hidden--visually {\n",
       "  border: 0;\n",
       "  clip: rect(1px 1px 1px 1px);\n",
       "  clip: rect(1px, 1px, 1px, 1px);\n",
       "  height: 1px;\n",
       "  margin: -1px;\n",
       "  overflow: hidden;\n",
       "  padding: 0;\n",
       "  position: absolute;\n",
       "  width: 1px;\n",
       "}\n",
       "\n",
       "#sk-container-id-4 div.sk-dashed-wrapped {\n",
       "  border: 1px dashed var(--sklearn-color-line);\n",
       "  margin: 0 0.4em 0.5em 0.4em;\n",
       "  box-sizing: border-box;\n",
       "  padding-bottom: 0.4em;\n",
       "  background-color: var(--sklearn-color-background);\n",
       "}\n",
       "\n",
       "#sk-container-id-4 div.sk-container {\n",
       "  /* jupyter's `normalize.less` sets `[hidden] { display: none; }`\n",
       "     but bootstrap.min.css set `[hidden] { display: none !important; }`\n",
       "     so we also need the `!important` here to be able to override the\n",
       "     default hidden behavior on the sphinx rendered scikit-learn.org.\n",
       "     See: https://github.com/scikit-learn/scikit-learn/issues/21755 */\n",
       "  display: inline-block !important;\n",
       "  position: relative;\n",
       "}\n",
       "\n",
       "#sk-container-id-4 div.sk-text-repr-fallback {\n",
       "  display: none;\n",
       "}\n",
       "\n",
       "div.sk-parallel-item,\n",
       "div.sk-serial,\n",
       "div.sk-item {\n",
       "  /* draw centered vertical line to link estimators */\n",
       "  background-image: linear-gradient(var(--sklearn-color-text-on-default-background), var(--sklearn-color-text-on-default-background));\n",
       "  background-size: 2px 100%;\n",
       "  background-repeat: no-repeat;\n",
       "  background-position: center center;\n",
       "}\n",
       "\n",
       "/* Parallel-specific style estimator block */\n",
       "\n",
       "#sk-container-id-4 div.sk-parallel-item::after {\n",
       "  content: \"\";\n",
       "  width: 100%;\n",
       "  border-bottom: 2px solid var(--sklearn-color-text-on-default-background);\n",
       "  flex-grow: 1;\n",
       "}\n",
       "\n",
       "#sk-container-id-4 div.sk-parallel {\n",
       "  display: flex;\n",
       "  align-items: stretch;\n",
       "  justify-content: center;\n",
       "  background-color: var(--sklearn-color-background);\n",
       "  position: relative;\n",
       "}\n",
       "\n",
       "#sk-container-id-4 div.sk-parallel-item {\n",
       "  display: flex;\n",
       "  flex-direction: column;\n",
       "}\n",
       "\n",
       "#sk-container-id-4 div.sk-parallel-item:first-child::after {\n",
       "  align-self: flex-end;\n",
       "  width: 50%;\n",
       "}\n",
       "\n",
       "#sk-container-id-4 div.sk-parallel-item:last-child::after {\n",
       "  align-self: flex-start;\n",
       "  width: 50%;\n",
       "}\n",
       "\n",
       "#sk-container-id-4 div.sk-parallel-item:only-child::after {\n",
       "  width: 0;\n",
       "}\n",
       "\n",
       "/* Serial-specific style estimator block */\n",
       "\n",
       "#sk-container-id-4 div.sk-serial {\n",
       "  display: flex;\n",
       "  flex-direction: column;\n",
       "  align-items: center;\n",
       "  background-color: var(--sklearn-color-background);\n",
       "  padding-right: 1em;\n",
       "  padding-left: 1em;\n",
       "}\n",
       "\n",
       "\n",
       "/* Toggleable style: style used for estimator/Pipeline/ColumnTransformer box that is\n",
       "clickable and can be expanded/collapsed.\n",
       "- Pipeline and ColumnTransformer use this feature and define the default style\n",
       "- Estimators will overwrite some part of the style using the `sk-estimator` class\n",
       "*/\n",
       "\n",
       "/* Pipeline and ColumnTransformer style (default) */\n",
       "\n",
       "#sk-container-id-4 div.sk-toggleable {\n",
       "  /* Default theme specific background. It is overwritten whether we have a\n",
       "  specific estimator or a Pipeline/ColumnTransformer */\n",
       "  background-color: var(--sklearn-color-background);\n",
       "}\n",
       "\n",
       "/* Toggleable label */\n",
       "#sk-container-id-4 label.sk-toggleable__label {\n",
       "  cursor: pointer;\n",
       "  display: block;\n",
       "  width: 100%;\n",
       "  margin-bottom: 0;\n",
       "  padding: 0.5em;\n",
       "  box-sizing: border-box;\n",
       "  text-align: center;\n",
       "}\n",
       "\n",
       "#sk-container-id-4 label.sk-toggleable__label-arrow:before {\n",
       "  /* Arrow on the left of the label */\n",
       "  content: \"▸\";\n",
       "  float: left;\n",
       "  margin-right: 0.25em;\n",
       "  color: var(--sklearn-color-icon);\n",
       "}\n",
       "\n",
       "#sk-container-id-4 label.sk-toggleable__label-arrow:hover:before {\n",
       "  color: var(--sklearn-color-text);\n",
       "}\n",
       "\n",
       "/* Toggleable content - dropdown */\n",
       "\n",
       "#sk-container-id-4 div.sk-toggleable__content {\n",
       "  max-height: 0;\n",
       "  max-width: 0;\n",
       "  overflow: hidden;\n",
       "  text-align: left;\n",
       "  /* unfitted */\n",
       "  background-color: var(--sklearn-color-unfitted-level-0);\n",
       "}\n",
       "\n",
       "#sk-container-id-4 div.sk-toggleable__content.fitted {\n",
       "  /* fitted */\n",
       "  background-color: var(--sklearn-color-fitted-level-0);\n",
       "}\n",
       "\n",
       "#sk-container-id-4 div.sk-toggleable__content pre {\n",
       "  margin: 0.2em;\n",
       "  border-radius: 0.25em;\n",
       "  color: var(--sklearn-color-text);\n",
       "  /* unfitted */\n",
       "  background-color: var(--sklearn-color-unfitted-level-0);\n",
       "}\n",
       "\n",
       "#sk-container-id-4 div.sk-toggleable__content.fitted pre {\n",
       "  /* unfitted */\n",
       "  background-color: var(--sklearn-color-fitted-level-0);\n",
       "}\n",
       "\n",
       "#sk-container-id-4 input.sk-toggleable__control:checked~div.sk-toggleable__content {\n",
       "  /* Expand drop-down */\n",
       "  max-height: 200px;\n",
       "  max-width: 100%;\n",
       "  overflow: auto;\n",
       "}\n",
       "\n",
       "#sk-container-id-4 input.sk-toggleable__control:checked~label.sk-toggleable__label-arrow:before {\n",
       "  content: \"▾\";\n",
       "}\n",
       "\n",
       "/* Pipeline/ColumnTransformer-specific style */\n",
       "\n",
       "#sk-container-id-4 div.sk-label input.sk-toggleable__control:checked~label.sk-toggleable__label {\n",
       "  color: var(--sklearn-color-text);\n",
       "  background-color: var(--sklearn-color-unfitted-level-2);\n",
       "}\n",
       "\n",
       "#sk-container-id-4 div.sk-label.fitted input.sk-toggleable__control:checked~label.sk-toggleable__label {\n",
       "  background-color: var(--sklearn-color-fitted-level-2);\n",
       "}\n",
       "\n",
       "/* Estimator-specific style */\n",
       "\n",
       "/* Colorize estimator box */\n",
       "#sk-container-id-4 div.sk-estimator input.sk-toggleable__control:checked~label.sk-toggleable__label {\n",
       "  /* unfitted */\n",
       "  background-color: var(--sklearn-color-unfitted-level-2);\n",
       "}\n",
       "\n",
       "#sk-container-id-4 div.sk-estimator.fitted input.sk-toggleable__control:checked~label.sk-toggleable__label {\n",
       "  /* fitted */\n",
       "  background-color: var(--sklearn-color-fitted-level-2);\n",
       "}\n",
       "\n",
       "#sk-container-id-4 div.sk-label label.sk-toggleable__label,\n",
       "#sk-container-id-4 div.sk-label label {\n",
       "  /* The background is the default theme color */\n",
       "  color: var(--sklearn-color-text-on-default-background);\n",
       "}\n",
       "\n",
       "/* On hover, darken the color of the background */\n",
       "#sk-container-id-4 div.sk-label:hover label.sk-toggleable__label {\n",
       "  color: var(--sklearn-color-text);\n",
       "  background-color: var(--sklearn-color-unfitted-level-2);\n",
       "}\n",
       "\n",
       "/* Label box, darken color on hover, fitted */\n",
       "#sk-container-id-4 div.sk-label.fitted:hover label.sk-toggleable__label.fitted {\n",
       "  color: var(--sklearn-color-text);\n",
       "  background-color: var(--sklearn-color-fitted-level-2);\n",
       "}\n",
       "\n",
       "/* Estimator label */\n",
       "\n",
       "#sk-container-id-4 div.sk-label label {\n",
       "  font-family: monospace;\n",
       "  font-weight: bold;\n",
       "  display: inline-block;\n",
       "  line-height: 1.2em;\n",
       "}\n",
       "\n",
       "#sk-container-id-4 div.sk-label-container {\n",
       "  text-align: center;\n",
       "}\n",
       "\n",
       "/* Estimator-specific */\n",
       "#sk-container-id-4 div.sk-estimator {\n",
       "  font-family: monospace;\n",
       "  border: 1px dotted var(--sklearn-color-border-box);\n",
       "  border-radius: 0.25em;\n",
       "  box-sizing: border-box;\n",
       "  margin-bottom: 0.5em;\n",
       "  /* unfitted */\n",
       "  background-color: var(--sklearn-color-unfitted-level-0);\n",
       "}\n",
       "\n",
       "#sk-container-id-4 div.sk-estimator.fitted {\n",
       "  /* fitted */\n",
       "  background-color: var(--sklearn-color-fitted-level-0);\n",
       "}\n",
       "\n",
       "/* on hover */\n",
       "#sk-container-id-4 div.sk-estimator:hover {\n",
       "  /* unfitted */\n",
       "  background-color: var(--sklearn-color-unfitted-level-2);\n",
       "}\n",
       "\n",
       "#sk-container-id-4 div.sk-estimator.fitted:hover {\n",
       "  /* fitted */\n",
       "  background-color: var(--sklearn-color-fitted-level-2);\n",
       "}\n",
       "\n",
       "/* Specification for estimator info (e.g. \"i\" and \"?\") */\n",
       "\n",
       "/* Common style for \"i\" and \"?\" */\n",
       "\n",
       ".sk-estimator-doc-link,\n",
       "a:link.sk-estimator-doc-link,\n",
       "a:visited.sk-estimator-doc-link {\n",
       "  float: right;\n",
       "  font-size: smaller;\n",
       "  line-height: 1em;\n",
       "  font-family: monospace;\n",
       "  background-color: var(--sklearn-color-background);\n",
       "  border-radius: 1em;\n",
       "  height: 1em;\n",
       "  width: 1em;\n",
       "  text-decoration: none !important;\n",
       "  margin-left: 1ex;\n",
       "  /* unfitted */\n",
       "  border: var(--sklearn-color-unfitted-level-1) 1pt solid;\n",
       "  color: var(--sklearn-color-unfitted-level-1);\n",
       "}\n",
       "\n",
       ".sk-estimator-doc-link.fitted,\n",
       "a:link.sk-estimator-doc-link.fitted,\n",
       "a:visited.sk-estimator-doc-link.fitted {\n",
       "  /* fitted */\n",
       "  border: var(--sklearn-color-fitted-level-1) 1pt solid;\n",
       "  color: var(--sklearn-color-fitted-level-1);\n",
       "}\n",
       "\n",
       "/* On hover */\n",
       "div.sk-estimator:hover .sk-estimator-doc-link:hover,\n",
       ".sk-estimator-doc-link:hover,\n",
       "div.sk-label-container:hover .sk-estimator-doc-link:hover,\n",
       ".sk-estimator-doc-link:hover {\n",
       "  /* unfitted */\n",
       "  background-color: var(--sklearn-color-unfitted-level-3);\n",
       "  color: var(--sklearn-color-background);\n",
       "  text-decoration: none;\n",
       "}\n",
       "\n",
       "div.sk-estimator.fitted:hover .sk-estimator-doc-link.fitted:hover,\n",
       ".sk-estimator-doc-link.fitted:hover,\n",
       "div.sk-label-container:hover .sk-estimator-doc-link.fitted:hover,\n",
       ".sk-estimator-doc-link.fitted:hover {\n",
       "  /* fitted */\n",
       "  background-color: var(--sklearn-color-fitted-level-3);\n",
       "  color: var(--sklearn-color-background);\n",
       "  text-decoration: none;\n",
       "}\n",
       "\n",
       "/* Span, style for the box shown on hovering the info icon */\n",
       ".sk-estimator-doc-link span {\n",
       "  display: none;\n",
       "  z-index: 9999;\n",
       "  position: relative;\n",
       "  font-weight: normal;\n",
       "  right: .2ex;\n",
       "  padding: .5ex;\n",
       "  margin: .5ex;\n",
       "  width: min-content;\n",
       "  min-width: 20ex;\n",
       "  max-width: 50ex;\n",
       "  color: var(--sklearn-color-text);\n",
       "  box-shadow: 2pt 2pt 4pt #999;\n",
       "  /* unfitted */\n",
       "  background: var(--sklearn-color-unfitted-level-0);\n",
       "  border: .5pt solid var(--sklearn-color-unfitted-level-3);\n",
       "}\n",
       "\n",
       ".sk-estimator-doc-link.fitted span {\n",
       "  /* fitted */\n",
       "  background: var(--sklearn-color-fitted-level-0);\n",
       "  border: var(--sklearn-color-fitted-level-3);\n",
       "}\n",
       "\n",
       ".sk-estimator-doc-link:hover span {\n",
       "  display: block;\n",
       "}\n",
       "\n",
       "/* \"?\"-specific style due to the `<a>` HTML tag */\n",
       "\n",
       "#sk-container-id-4 a.estimator_doc_link {\n",
       "  float: right;\n",
       "  font-size: 1rem;\n",
       "  line-height: 1em;\n",
       "  font-family: monospace;\n",
       "  background-color: var(--sklearn-color-background);\n",
       "  border-radius: 1rem;\n",
       "  height: 1rem;\n",
       "  width: 1rem;\n",
       "  text-decoration: none;\n",
       "  /* unfitted */\n",
       "  color: var(--sklearn-color-unfitted-level-1);\n",
       "  border: var(--sklearn-color-unfitted-level-1) 1pt solid;\n",
       "}\n",
       "\n",
       "#sk-container-id-4 a.estimator_doc_link.fitted {\n",
       "  /* fitted */\n",
       "  border: var(--sklearn-color-fitted-level-1) 1pt solid;\n",
       "  color: var(--sklearn-color-fitted-level-1);\n",
       "}\n",
       "\n",
       "/* On hover */\n",
       "#sk-container-id-4 a.estimator_doc_link:hover {\n",
       "  /* unfitted */\n",
       "  background-color: var(--sklearn-color-unfitted-level-3);\n",
       "  color: var(--sklearn-color-background);\n",
       "  text-decoration: none;\n",
       "}\n",
       "\n",
       "#sk-container-id-4 a.estimator_doc_link.fitted:hover {\n",
       "  /* fitted */\n",
       "  background-color: var(--sklearn-color-fitted-level-3);\n",
       "}\n",
       "</style><div id=\"sk-container-id-4\" class=\"sk-top-container\"><div class=\"sk-text-repr-fallback\"><pre>SVR()</pre><b>In a Jupyter environment, please rerun this cell to show the HTML representation or trust the notebook. <br />On GitHub, the HTML representation is unable to render, please try loading this page with nbviewer.org.</b></div><div class=\"sk-container\" hidden><div class=\"sk-item\"><div class=\"sk-estimator fitted sk-toggleable\"><input class=\"sk-toggleable__control sk-hidden--visually\" id=\"sk-estimator-id-4\" type=\"checkbox\" checked><label for=\"sk-estimator-id-4\" class=\"sk-toggleable__label fitted sk-toggleable__label-arrow fitted\">&nbsp;&nbsp;SVR<a class=\"sk-estimator-doc-link fitted\" rel=\"noreferrer\" target=\"_blank\" href=\"https://scikit-learn.org/1.4/modules/generated/sklearn.svm.SVR.html\">?<span>Documentation for SVR</span></a><span class=\"sk-estimator-doc-link fitted\">i<span>Fitted</span></span></label><div class=\"sk-toggleable__content fitted\"><pre>SVR()</pre></div> </div></div></div></div>"
      ],
      "text/plain": [
       "SVR()"
      ]
     },
     "execution_count": 192,
     "metadata": {},
     "output_type": "execute_result"
    }
   ],
   "source": [
    "from sklearn.model_selection import train_test_split\n",
    "from sklearn.svm import SVR\n",
    "from sklearn.preprocessing import StandardScaler\n",
    "\n",
    "train_x , test_x , train_y , test_y = train_test_split(X , Y , test_size=0.2 , random_state=42)\n",
    "\n",
    "scaler = StandardScaler()\n",
    "train_x_scaled = scaler.fit_transform(train_x)\n",
    "test_x_scaled = scaler.fit_transform(test_x)\n",
    "\n",
    "Support_Vector = SVR(kernel='rbf', C=1.0 , gamma='scale')\n",
    "\n",
    "Support_Vector.fit(train_x_scaled , train_y)"
   ]
  },
  {
   "cell_type": "code",
   "execution_count": 193,
   "metadata": {},
   "outputs": [],
   "source": [
    "y_predict = Support_Vector.predict(test_x_scaled)"
   ]
  },
  {
   "cell_type": "code",
   "execution_count": 194,
   "metadata": {},
   "outputs": [
    {
     "name": "stdout",
     "output_type": "stream",
     "text": [
      "[80.70532233 80.49848193 77.54447452 ... 77.44195007 79.77614515\n",
      " 76.19593256]\n"
     ]
    }
   ],
   "source": [
    "print(y_predict)"
   ]
  },
  {
   "cell_type": "code",
   "execution_count": 195,
   "metadata": {},
   "outputs": [
    {
     "name": "stdout",
     "output_type": "stream",
     "text": [
      "Mean Absolute error :  5.9402331464323215\n",
      "Mean squared error :  58.48589044887944\n",
      "Root mean squared error :  7.64760684455467\n",
      "R^2 score :  0.6999086452632843\n"
     ]
    }
   ],
   "source": [
    "from sklearn.metrics import mean_absolute_error , mean_squared_error , root_mean_squared_error ,r2_score\n",
    "\n",
    "mae = mean_absolute_error(test_y , y_predict)\n",
    "mse = mean_squared_error(test_y , y_predict)\n",
    "rmse = root_mean_squared_error(test_y , y_predict)\n",
    "r2 = r2_score(test_y , y_predict)\n",
    "\n",
    "print(\"Mean Absolute error : \" , mae)\n",
    "print(\"Mean squared error : \", mse)\n",
    "print(\"Root mean squared error : \", rmse)\n",
    "print(\"R^2 score : \", r2)"
   ]
  },
  {
   "cell_type": "code",
   "execution_count": 196,
   "metadata": {},
   "outputs": [],
   "source": [
    "test_subject = test.iloc[: , 1:]"
   ]
  },
  {
   "cell_type": "code",
   "execution_count": 197,
   "metadata": {},
   "outputs": [
    {
     "name": "stderr",
     "output_type": "stream",
     "text": [
      "c:\\Python311\\Lib\\site-packages\\sklearn\\base.py:486: UserWarning: X has feature names, but SVR was fitted without feature names\n",
      "  warnings.warn(\n"
     ]
    }
   ],
   "source": [
    "Habitability_score = Support_Vector.predict(test_subject)\n",
    "rounded_predications = np.round(Habitability_score , 2)"
   ]
  },
  {
   "cell_type": "code",
   "execution_count": 198,
   "metadata": {},
   "outputs": [],
   "source": [
    "test.loc[: , 'Habitability_score'] = rounded_predications"
   ]
  },
  {
   "cell_type": "code",
   "execution_count": 199,
   "metadata": {},
   "outputs": [
    {
     "data": {
      "text/html": [
       "<div>\n",
       "<style scoped>\n",
       "    .dataframe tbody tr th:only-of-type {\n",
       "        vertical-align: middle;\n",
       "    }\n",
       "\n",
       "    .dataframe tbody tr th {\n",
       "        vertical-align: top;\n",
       "    }\n",
       "\n",
       "    .dataframe thead th {\n",
       "        text-align: right;\n",
       "    }\n",
       "</style>\n",
       "<table border=\"1\" class=\"dataframe\">\n",
       "  <thead>\n",
       "    <tr style=\"text-align: right;\">\n",
       "      <th></th>\n",
       "      <th>Id</th>\n",
       "      <th>Property_Area</th>\n",
       "      <th>Number_of_Windows</th>\n",
       "      <th>Number_of_Doors</th>\n",
       "      <th>Furnishing</th>\n",
       "      <th>Frequency_of_Powercuts</th>\n",
       "      <th>Power_Backup</th>\n",
       "      <th>Water_Supply</th>\n",
       "      <th>Traffic_Density_Score</th>\n",
       "      <th>Crime_Rate</th>\n",
       "      <th>Dust_and_Noise</th>\n",
       "      <th>Air_Quality_Index</th>\n",
       "      <th>Neighborhood_Review</th>\n",
       "      <th>#R%$G&amp;867</th>\n",
       "      <th>Apartment</th>\n",
       "      <th>Bungalow</th>\n",
       "      <th>Container Home</th>\n",
       "      <th>Duplex</th>\n",
       "      <th>Single-family home</th>\n",
       "      <th>Habitability_score</th>\n",
       "    </tr>\n",
       "  </thead>\n",
       "  <tbody>\n",
       "    <tr>\n",
       "      <th>0</th>\n",
       "      <td>0x6808</td>\n",
       "      <td>1521</td>\n",
       "      <td>5.0</td>\n",
       "      <td>1</td>\n",
       "      <td>0.0</td>\n",
       "      <td>0.0</td>\n",
       "      <td>1.0</td>\n",
       "      <td>4.0</td>\n",
       "      <td>7.61</td>\n",
       "      <td>0.0</td>\n",
       "      <td>1.0</td>\n",
       "      <td>156.0</td>\n",
       "      <td>4.71</td>\n",
       "      <td>0.0</td>\n",
       "      <td>0.0</td>\n",
       "      <td>0.0</td>\n",
       "      <td>0.0</td>\n",
       "      <td>0.0</td>\n",
       "      <td>1.0</td>\n",
       "      <td>71.89</td>\n",
       "    </tr>\n",
       "    <tr>\n",
       "      <th>1</th>\n",
       "      <td>0x6a98</td>\n",
       "      <td>2233</td>\n",
       "      <td>2.0</td>\n",
       "      <td>1</td>\n",
       "      <td>1.0</td>\n",
       "      <td>0.0</td>\n",
       "      <td>1.0</td>\n",
       "      <td>3.0</td>\n",
       "      <td>5.28</td>\n",
       "      <td>0.0</td>\n",
       "      <td>1.0</td>\n",
       "      <td>82.0</td>\n",
       "      <td>4.50</td>\n",
       "      <td>0.0</td>\n",
       "      <td>0.0</td>\n",
       "      <td>0.0</td>\n",
       "      <td>0.0</td>\n",
       "      <td>0.0</td>\n",
       "      <td>1.0</td>\n",
       "      <td>71.89</td>\n",
       "    </tr>\n",
       "    <tr>\n",
       "      <th>2</th>\n",
       "      <td>0xacc0</td>\n",
       "      <td>986</td>\n",
       "      <td>1.0</td>\n",
       "      <td>1</td>\n",
       "      <td>0.0</td>\n",
       "      <td>0.0</td>\n",
       "      <td>1.0</td>\n",
       "      <td>4.0</td>\n",
       "      <td>7.72</td>\n",
       "      <td>0.0</td>\n",
       "      <td>1.0</td>\n",
       "      <td>91.0</td>\n",
       "      <td>4.79</td>\n",
       "      <td>0.0</td>\n",
       "      <td>1.0</td>\n",
       "      <td>0.0</td>\n",
       "      <td>0.0</td>\n",
       "      <td>0.0</td>\n",
       "      <td>0.0</td>\n",
       "      <td>71.89</td>\n",
       "    </tr>\n",
       "    <tr>\n",
       "      <th>3</th>\n",
       "      <td>0x8225</td>\n",
       "      <td>1625</td>\n",
       "      <td>2.0</td>\n",
       "      <td>1</td>\n",
       "      <td>1.0</td>\n",
       "      <td>0.0</td>\n",
       "      <td>1.0</td>\n",
       "      <td>2.0</td>\n",
       "      <td>6.19</td>\n",
       "      <td>0.0</td>\n",
       "      <td>1.0</td>\n",
       "      <td>159.0</td>\n",
       "      <td>4.09</td>\n",
       "      <td>0.0</td>\n",
       "      <td>0.0</td>\n",
       "      <td>0.0</td>\n",
       "      <td>0.0</td>\n",
       "      <td>0.0</td>\n",
       "      <td>1.0</td>\n",
       "      <td>71.89</td>\n",
       "    </tr>\n",
       "    <tr>\n",
       "      <th>4</th>\n",
       "      <td>0xaee8</td>\n",
       "      <td>1166</td>\n",
       "      <td>2.0</td>\n",
       "      <td>2</td>\n",
       "      <td>2.0</td>\n",
       "      <td>0.0</td>\n",
       "      <td>1.0</td>\n",
       "      <td>2.0</td>\n",
       "      <td>5.84</td>\n",
       "      <td>1.0</td>\n",
       "      <td>1.0</td>\n",
       "      <td>82.0</td>\n",
       "      <td>3.56</td>\n",
       "      <td>0.0</td>\n",
       "      <td>0.0</td>\n",
       "      <td>0.0</td>\n",
       "      <td>0.0</td>\n",
       "      <td>0.0</td>\n",
       "      <td>1.0</td>\n",
       "      <td>71.89</td>\n",
       "    </tr>\n",
       "  </tbody>\n",
       "</table>\n",
       "</div>"
      ],
      "text/plain": [
       "       Id  Property_Area  Number_of_Windows  Number_of_Doors  Furnishing  \\\n",
       "0  0x6808           1521                5.0                1         0.0   \n",
       "1  0x6a98           2233                2.0                1         1.0   \n",
       "2  0xacc0            986                1.0                1         0.0   \n",
       "3  0x8225           1625                2.0                1         1.0   \n",
       "4  0xaee8           1166                2.0                2         2.0   \n",
       "\n",
       "   Frequency_of_Powercuts  Power_Backup  Water_Supply  Traffic_Density_Score  \\\n",
       "0                     0.0           1.0           4.0                   7.61   \n",
       "1                     0.0           1.0           3.0                   5.28   \n",
       "2                     0.0           1.0           4.0                   7.72   \n",
       "3                     0.0           1.0           2.0                   6.19   \n",
       "4                     0.0           1.0           2.0                   5.84   \n",
       "\n",
       "   Crime_Rate  Dust_and_Noise  Air_Quality_Index  Neighborhood_Review  \\\n",
       "0         0.0             1.0              156.0                 4.71   \n",
       "1         0.0             1.0               82.0                 4.50   \n",
       "2         0.0             1.0               91.0                 4.79   \n",
       "3         0.0             1.0              159.0                 4.09   \n",
       "4         1.0             1.0               82.0                 3.56   \n",
       "\n",
       "   #R%$G&867  Apartment  Bungalow  Container Home  Duplex  Single-family home  \\\n",
       "0        0.0        0.0       0.0             0.0     0.0                 1.0   \n",
       "1        0.0        0.0       0.0             0.0     0.0                 1.0   \n",
       "2        0.0        1.0       0.0             0.0     0.0                 0.0   \n",
       "3        0.0        0.0       0.0             0.0     0.0                 1.0   \n",
       "4        0.0        0.0       0.0             0.0     0.0                 1.0   \n",
       "\n",
       "   Habitability_score  \n",
       "0               71.89  \n",
       "1               71.89  \n",
       "2               71.89  \n",
       "3               71.89  \n",
       "4               71.89  "
      ]
     },
     "execution_count": 199,
     "metadata": {},
     "output_type": "execute_result"
    }
   ],
   "source": [
    "test.head()"
   ]
  },
  {
   "cell_type": "code",
   "execution_count": 200,
   "metadata": {},
   "outputs": [],
   "source": [
    "final_dataset = test.iloc[: ,[0 , -1]]\n",
    "column_names = list(final_dataset.columns)\n",
    "final_dataset.to_csv('ML Olympiad - Sustainable Urban Living submission7.csv' , index=False , header=column_names)"
   ]
  }
 ],
 "metadata": {
  "kernelspec": {
   "display_name": "Python 3",
   "language": "python",
   "name": "python3"
  },
  "language_info": {
   "codemirror_mode": {
    "name": "ipython",
    "version": 3
   },
   "file_extension": ".py",
   "mimetype": "text/x-python",
   "name": "python",
   "nbconvert_exporter": "python",
   "pygments_lexer": "ipython3",
   "version": "3.11.5"
  }
 },
 "nbformat": 4,
 "nbformat_minor": 2
}
